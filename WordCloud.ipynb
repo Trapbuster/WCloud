{
 "cells": [
  {
   "cell_type": "code",
   "execution_count": 120,
   "metadata": {},
   "outputs": [],
   "source": [
    "import numpy as np\n",
    "import wikipedia\n",
    "import random\n",
    "import os\n",
    "import urllib.request\n",
    "import cv2, matplotlib\n",
    "import matplotlib.pyplot as plt\n",
    "from PIL import Image\n",
    "from wordcloud import WordCloud, STOPWORDS, ImageColorGenerator\n",
    "from scipy.misc import imread\n",
    "currdir= os.path.dirname('__file__')"
   ]
  },
  {
   "cell_type": "code",
   "execution_count": 121,
   "metadata": {},
   "outputs": [],
   "source": [
    "def getwiki(query):\n",
    "    title = wikipedia.search(query)[0]\n",
    "    page = wikipedia.page(title)\n",
    "    image = page.images[0]\n",
    "    print(image)\n",
    "    image_name_jpg = query.upper() + \".jpg\"\n",
    "    image_name_png = query.upper() + \".png\"\n",
    "    urllib.request.urlretrieve(image, image_name_jpg)\n",
    "    im = Image.open(image_name_jpg)\n",
    "    im.show()\n",
    "    im.save(image_name_png)\n",
    "    an_img = cv2.cvtColor(cv2.imread(image_name_png), cv2.COLOR_BGR2RGB)\n",
    "    gray_img = cv2.cvtColor(an_img, cv2.COLOR_RGB2GRAY)\n",
    "    plt.imshow(gray_img)\n",
    "    im.save(gray_img)\n",
    "    rmbg(image_name_png)\n",
    "    #image.to_file(query.upper() + \".png\")\n",
    "    return page.content"
   ]
  },
  {
   "cell_type": "code",
   "execution_count": 122,
   "metadata": {},
   "outputs": [],
   "source": [
    "def rmbg(image):\n",
    "    img = cv2.cvtColor(cv2.imread(image), cv2.COLOR_BGR2RGB)\n",
    "    mask = cv2.threshold(cv2.imread(image, 0), 0, 255, cv2.THRESH_BINARY + cv2.THRESH_OTSU)\n",
    "    bk = np.full(img.shape, 255, dtype=np.uint8)\n",
    "    bk = cv2.rectangle(bk, (0, 0), (int(img.shape[1] / 2), int(img.shape[0] / 2)), 0, -1)\n",
    "    bk = cv2.rectangle(bk, (int(img.shape[1] / 2), int(img.shape[0] / 2)), (img.shape[1], img.shape[0]), 0, -1)\n",
    "    retval, mask = cv2.threshold(bk, 5, 255, cv2.THRESH_BINARY)\n",
    "    fg_masked = cv2.bitwise_and(img, img, mask=mask)"
   ]
  },
  {
   "cell_type": "code",
   "execution_count": 123,
   "metadata": {},
   "outputs": [],
   "source": [
    "def create_wordcloud(text, inp):\n",
    "    mask = np.array(Image.open(os.path.join(currdir, inp.upper() + \".png\")))\n",
    "    stopwords = set(STOPWORDS)\n",
    "    wc = WordCloud( background_color=\"white\", max_words=2000, mask=mask,stopwords=stopwords)\n",
    "    wc.generate(text)\n",
    "    wc.to_file(inp + \".png\")\n",
    "    "
   ]
  },
  {
   "cell_type": "code",
   "execution_count": null,
   "metadata": {},
   "outputs": [],
   "source": [
    "inputs = input()\n",
    "create_wordcloud(getwiki(inputs), inputs)\n",
    "print(\"done\")"
   ]
  },
  {
   "cell_type": "code",
   "execution_count": null,
   "metadata": {},
   "outputs": [],
   "source": []
  },
  {
   "cell_type": "code",
   "execution_count": null,
   "metadata": {},
   "outputs": [],
   "source": []
  },
  {
   "cell_type": "code",
   "execution_count": null,
   "metadata": {},
   "outputs": [],
   "source": []
  }
 ],
 "metadata": {
  "kernelspec": {
   "display_name": "Python 3",
   "language": "python",
   "name": "python3"
  },
  "language_info": {
   "codemirror_mode": {
    "name": "ipython",
    "version": 3
   },
   "file_extension": ".py",
   "mimetype": "text/x-python",
   "name": "python",
   "nbconvert_exporter": "python",
   "pygments_lexer": "ipython3",
   "version": "3.6.4"
  }
 },
 "nbformat": 4,
 "nbformat_minor": 2
}
